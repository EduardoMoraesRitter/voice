{
  "nbformat": 4,
  "nbformat_minor": 0,
  "metadata": {
    "colab": {
      "name": "photo_capture.ipynb",
      "provenance": [],
      "collapsed_sections": [],
      "toc_visible": true,
      "include_colab_link": true
    },
    "kernelspec": {
      "name": "python3",
      "display_name": "Python 3"
    }
  },
  "cells": [
    {
      "cell_type": "markdown",
      "metadata": {
        "id": "view-in-github",
        "colab_type": "text"
      },
      "source": [
        "<a href=\"https://colab.research.google.com/github/EduardoMoraesRitter/voice/blob/master/photo_capture.ipynb\" target=\"_parent\"><img src=\"https://colab.research.google.com/assets/colab-badge.svg\" alt=\"Open In Colab\"/></a>"
      ]
    },
    {
      "cell_type": "code",
      "metadata": {
        "id": "Ps2F-JnE7R7W",
        "colab_type": "code",
        "colab": {}
      },
      "source": [
        "from IPython.display import HTML, Image, Javascript\n",
        "from google.colab.output import eval_js\n",
        "from base64 import b64decode\n",
        "\n",
        "VIDEO_JS = Javascript('''\n",
        "async function takePhoto(quality) {\n",
        "  const div = document.createElement('div');\n",
        "  const capture = document.createElement('button');\n",
        "  capture.textContent = 'Capture';\n",
        "  div.appendChild(capture);\n",
        "\n",
        "  const video = document.createElement('video');\n",
        "  video.style.display = 'block';\n",
        "  const stream = await navigator.mediaDevices.getUserMedia({video: true});\n",
        "  \n",
        "  document.body.appendChild(div);\n",
        "  div.appendChild(video);\n",
        "  video.srcObject = stream;\n",
        "  await video.play();\n",
        "\n",
        "  // Resize the output to fit the video element.\n",
        "  google.colab.output.setIframeHeight(document.documentElement.scrollHeight, true);\n",
        "\n",
        "  // Wait for Capture to be clicked.\n",
        "  await new Promise((resolve) => capture.onclick = resolve);\n",
        "\n",
        "  const canvas = document.createElement('canvas');\n",
        "  canvas.width = video.videoWidth;\n",
        "  canvas.height = video.videoHeight;\n",
        "  canvas.getContext('2d').drawImage(video, 0, 0);\n",
        "  stream.getVideoTracks()[0].stop();\n",
        "  div.remove();\n",
        "  return canvas.toDataURL('image/jpeg', quality);\n",
        "}\n",
        "''')\n",
        "\n",
        "def take_photo(filename='photo.jpg', quality=0.8):\n",
        "  display(VIDEO_JS)\n",
        "  data = eval_js('takePhoto({})'.format(quality))\n",
        "  binary = b64decode(data.split(',')[1])\n",
        "  with open(filename, 'wb') as f:\n",
        "    f.write(binary)\n",
        "  return filename"
      ],
      "execution_count": 0,
      "outputs": []
    },
    {
      "cell_type": "code",
      "metadata": {
        "id": "8lue9NIaFfzz",
        "colab_type": "code",
        "colab": {
          "base_uri": "https://localhost:8080/",
          "height": 34
        },
        "outputId": "e42fca2a-f35f-42a1-d754-e5cd0c666495"
      },
      "source": [
        "try:\n",
        "  filename = take_photo()\n",
        "  print('Saved to {}'.format(filename))\n",
        "except Exception as err:\n",
        "  print(str(err))"
      ],
      "execution_count": 2,
      "outputs": [
        {
          "output_type": "display_data",
          "data": {
            "application/javascript": [
              "\n",
              "async function takePhoto(quality) {\n",
              "  const div = document.createElement('div');\n",
              "  const capture = document.createElement('button');\n",
              "  capture.textContent = 'Capture';\n",
              "  div.appendChild(capture);\n",
              "\n",
              "  const video = document.createElement('video');\n",
              "  video.style.display = 'block';\n",
              "  const stream = await navigator.mediaDevices.getUserMedia({video: true});\n",
              "  \n",
              "  document.body.appendChild(div);\n",
              "  div.appendChild(video);\n",
              "  video.srcObject = stream;\n",
              "  await video.play();\n",
              "\n",
              "  // Resize the output to fit the video element.\n",
              "  google.colab.output.setIframeHeight(document.documentElement.scrollHeight, true);\n",
              "\n",
              "  // Wait for Capture to be clicked.\n",
              "  await new Promise((resolve) => capture.onclick = resolve);\n",
              "\n",
              "  const canvas = document.createElement('canvas');\n",
              "  canvas.width = video.videoWidth;\n",
              "  canvas.height = video.videoHeight;\n",
              "  canvas.getContext('2d').drawImage(video, 0, 0);\n",
              "  stream.getVideoTracks()[0].stop();\n",
              "  div.remove();\n",
              "  return canvas.toDataURL('image/jpeg', quality);\n",
              "}\n"
            ],
            "text/plain": [
              "<IPython.core.display.Javascript object>"
            ]
          },
          "metadata": {
            "tags": []
          }
        },
        {
          "output_type": "stream",
          "text": [
            "Saved to photo.jpg\n"
          ],
          "name": "stdout"
        }
      ]
    },
    {
      "cell_type": "code",
      "metadata": {
        "id": "JKL7gv92Ccx9",
        "colab_type": "code",
        "colab": {}
      },
      "source": [
        ""
      ],
      "execution_count": 0,
      "outputs": []
    }
  ]
}